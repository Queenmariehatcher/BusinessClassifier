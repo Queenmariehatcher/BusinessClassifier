{
 "cells": [
  {
   "cell_type": "code",
   "execution_count": 6,
   "metadata": {},
   "outputs": [],
   "source": [
    "import pickle\n",
    "from sklearn.svm import LinearSVC\n",
    "from sklearn.datasets import fetch_20newsgroups\n",
    "from sklearn.feature_extraction.text import TfidfVectorizer"
   ]
  },
  {
   "cell_type": "code",
   "execution_count": 7,
   "metadata": {},
   "outputs": [],
   "source": [
    "class BusinessClassifier:\n",
    "\n",
    "    # train the model\n",
    "    def __init__(self):\n",
    "        newsgroups_train = fetch_20newsgroups(subset='train', remove = ('headers', 'footers', 'quotes'))\n",
    "        self.target_names = newsgroups_train.target_names\n",
    "        self.vectorizer = TfidfVectorizer(max_df=0.5, stop_words='english')\n",
    "        vectors = self.vectorizer.fit_transform(newsgroups_train.data)\n",
    "        self.clf = LinearSVC(penalty='l2', dual=False, tol=1e-3)\n",
    "        self.clf.fit(vectors, newsgroups_train.target)\n",
    "\n",
    "    def predict(self, document):\n",
    "        x_test = self.vectorizer.transform([document])\n",
    "        pred = self.clf.predict(x_test)\n",
    "        return self.target_names[pred[0]]"
   ]
  },
  {
   "cell_type": "code",
   "execution_count": 15,
   "metadata": {},
   "outputs": [],
   "source": [
    "bc = BusinessClassifier()\n",
    "#Need to pickle the classifier, vectorizer and categories\n",
    "objs = [bc.clf, bc.vectorizer, bc.target_names]"
   ]
  },
  {
   "cell_type": "code",
   "execution_count": 17,
   "metadata": {},
   "outputs": [],
   "source": [
    "pickle.dump(objs, open(\"businessclassifier.pkl\", \"wb\"))"
   ]
  }
 ],
 "metadata": {
  "kernelspec": {
   "display_name": "Python [conda env:metis] *",
   "language": "python",
   "name": "conda-env-metis-py"
  },
  "language_info": {
   "codemirror_mode": {
    "name": "ipython",
    "version": 3
   },
   "file_extension": ".py",
   "mimetype": "text/x-python",
   "name": "python",
   "nbconvert_exporter": "python",
   "pygments_lexer": "ipython3",
   "version": "3.7.4"
  }
 },
 "nbformat": 4,
 "nbformat_minor": 2
}
