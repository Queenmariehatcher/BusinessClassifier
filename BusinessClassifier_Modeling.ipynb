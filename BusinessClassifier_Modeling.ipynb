{
 "cells": [
  {
   "cell_type": "code",
   "execution_count": 29,
   "metadata": {},
   "outputs": [],
   "source": [
    "import pickle\n",
    "import numpy as np\n",
    "from sklearn import metrics\n",
    "from sklearn.svm import LinearSVC\n",
    "from sklearn.metrics import accuracy_score\n",
    "from sklearn.naive_bayes import GaussianNB\n",
    "from sklearn.naive_bayes import MultinomialNB\n",
    "from sklearn.datasets import fetch_20newsgroups\n",
    "from sklearn.tree import DecisionTreeClassifier\n",
    "from sklearn.linear_model import LogisticRegression\n",
    "from sklearn.model_selection import RandomizedSearchCV\n",
    "from sklearn.feature_extraction.text import TfidfVectorizer\n",
    "from sklearn.ensemble import RandomForestClassifier, GradientBoostingClassifier\n",
    "from sklearn.metrics import accuracy_score, precision_score, recall_score, f1_score, roc_auc_score"
   ]
  },
  {
   "cell_type": "markdown",
   "metadata": {},
   "source": [
    "# Business Classifier\n",
    "**Goal:** Create a classifer using the sklearn.datasets fetch_20newsgroups capability.\n",
    "\n",
    "**Background:** In lieu of having a pre-labeled dataset of business websites versus non-business websites this is the best way to create a similar classification capability. \n",
    "\n",
    "**Approach:** I'm going to start by trying out a couple of different classifiers to see which one has the best accuracy scores."
   ]
  },
  {
   "cell_type": "code",
   "execution_count": 30,
   "metadata": {},
   "outputs": [],
   "source": [
    "#Populate the training data\n",
    "newsgroups_train = fetch_20newsgroups(subset='train')"
   ]
  },
  {
   "cell_type": "code",
   "execution_count": 31,
   "metadata": {},
   "outputs": [
    {
     "data": {
      "text/plain": [
       "\"From: lerxst@wam.umd.edu (where's my thing)\\nSubject: WHAT car is this!?\\nNntp-Posting-Host: rac3.wam.umd.edu\\nOrganization: University of Maryland, College Park\\nLines: 15\\n\\n I was wondering if anyone out there could enlighten me on this car I saw\\nthe other day. It was a 2-door sports car, looked to be from the late 60s/\\nearly 70s. It was called a Bricklin. The doors were really small. In addition,\\nthe front bumper was separate from the rest of the body. This is \\nall I know. If anyone can tellme a model name, engine specs, years\\nof production, where this car is made, history, or whatever info you\\nhave on this funky looking car, please e-mail.\\n\\nThanks,\\n- IL\\n   ---- brought to you by your neighborhood Lerxst ----\\n\\n\\n\\n\\n\""
      ]
     },
     "execution_count": 31,
     "metadata": {},
     "output_type": "execute_result"
    }
   ],
   "source": [
    "#Let's see what the data actually looks like\n",
    "newsgroups_train.data[0]"
   ]
  },
  {
   "cell_type": "code",
   "execution_count": 32,
   "metadata": {},
   "outputs": [
    {
     "data": {
      "text/plain": [
       "(11314, 130107)"
      ]
     },
     "execution_count": 32,
     "metadata": {},
     "output_type": "execute_result"
    }
   ],
   "source": [
    "#Create a Term-Frequency, Inverse Document Frequency word vector\n",
    "vectorizer = TfidfVectorizer()\n",
    "vectors = vectorizer.fit_transform(newsgroups_train.data)\n",
    "vectors.shape"
   ]
  },
  {
   "cell_type": "code",
   "execution_count": 33,
   "metadata": {},
   "outputs": [],
   "source": [
    "#Let's grab our test data\n",
    "newsgroups_test = fetch_20newsgroups(subset='test')\n",
    "vectors_test = vectorizer.transform(newsgroups_test.data)\n",
    "\n",
    "#Start with Multinomial Naive Bayes\n",
    "nb_clf = MultinomialNB(alpha=0.1)\n",
    "nb_clf.fit(vectors, newsgroups_train.target)\n",
    "\n",
    "pred = nb_clf.predict(vectors_test)"
   ]
  },
  {
   "cell_type": "code",
   "execution_count": 34,
   "metadata": {},
   "outputs": [],
   "source": [
    "#prints accuracy metrics for this model\n",
    "def print_accuracy_scores(model, X_test, y_test):\n",
    "    model_pred = model.predict(X_test)\n",
    "    accuracy = accuracy_score(y_test, model_pred)\n",
    "    #print(f'Model Accuracy: {round(accuracy, 4)*100}')\n",
    "    print('Accuracy: %f' % accuracy)\n",
    "    precision = precision_score(y_test, model_pred, average='macro')\n",
    "    print('Precision: %f' % precision)\n",
    "    # recall: tp / (tp + fn)\n",
    "    recall = recall_score(y_test, model_pred, average='macro')\n",
    "    print('Recall: %f' % recall)\n",
    "    # f1: 2 tp / (2 tp + fp + fn)\n",
    "    f1 = f1_score(y_test, model_pred, average='macro')\n",
    "    print('F1 score: %f' % f1)\n",
    "    #auc = roc_auc_score(y_test, model_pred)\n",
    "    #print('ROC AUC: %f' % auc)"
   ]
  },
  {
   "cell_type": "code",
   "execution_count": 35,
   "metadata": {},
   "outputs": [
    {
     "name": "stdout",
     "output_type": "stream",
     "text": [
      "Accuracy: 0.826341\n",
      "Precision: 0.839394\n",
      "Recall: 0.813973\n",
      "F1 score: 0.813889\n"
     ]
    }
   ],
   "source": [
    "print_accuracy_scores(nb_clf, vectors_test, newsgroups_test.target)"
   ]
  },
  {
   "cell_type": "code",
   "execution_count": 38,
   "metadata": {},
   "outputs": [],
   "source": [
    "def show_top10_words(classifier, vectorizer, categories):\n",
    "    feature_names = np.asarray(vectorizer.get_feature_names())\n",
    "    for i, category in enumerate(categories):\n",
    "        top10 = np.argsort(classifier.coef_[i])[-10:]\n",
    "        cat = \"\\033[0;37;41m\" + category + \"\\033[0m\"\n",
    "        print(\"%s: %s\" % (cat, \" \".join(feature_names[top10])))"
   ]
  },
  {
   "cell_type": "code",
   "execution_count": 39,
   "metadata": {},
   "outputs": [
    {
     "name": "stdout",
     "output_type": "stream",
     "text": [
      "\u001b[0;37;41malt.atheism\u001b[0m: keith it and you in that is to of the\n",
      "\u001b[0;37;41mcomp.graphics\u001b[0m: edu in for it is and graphics of to the\n",
      "\u001b[0;37;41mcomp.os.ms-windows.misc\u001b[0m: file for of and edu is it to the windows\n",
      "\u001b[0;37;41mcomp.sys.ibm.pc.hardware\u001b[0m: card ide is of it drive and scsi to the\n",
      "\u001b[0;37;41mcomp.sys.mac.hardware\u001b[0m: in it is and of edu apple mac to the\n",
      "\u001b[0;37;41mcomp.windows.x\u001b[0m: it mit in motif and is of window to the\n",
      "\u001b[0;37;41mmisc.forsale\u001b[0m: shipping offer of 00 to and edu the for sale\n",
      "\u001b[0;37;41mrec.autos\u001b[0m: that is you it in of and to car the\n",
      "\u001b[0;37;41mrec.motorcycles\u001b[0m: dod you it com in of and bike to the\n",
      "\u001b[0;37;41mrec.sport.baseball\u001b[0m: that is baseball and of in to he edu the\n",
      "\u001b[0;37;41mrec.sport.hockey\u001b[0m: ca game he team and hockey of in to the\n",
      "\u001b[0;37;41msci.crypt\u001b[0m: chip that encryption is and clipper key of to the\n",
      "\u001b[0;37;41msci.electronics\u001b[0m: for edu you it in is and of to the\n",
      "\u001b[0;37;41msci.med\u001b[0m: edu pitt that it in and is to of the\n",
      "\u001b[0;37;41msci.space\u001b[0m: it that is nasa in and to of space the\n",
      "\u001b[0;37;41msoc.religion.christian\u001b[0m: we it in and is god that to of the\n",
      "\u001b[0;37;41mtalk.politics.guns\u001b[0m: it is you that gun and in of to the\n",
      "\u001b[0;37;41mtalk.politics.mideast\u001b[0m: is you israeli that israel in and to of the\n",
      "\u001b[0;37;41mtalk.politics.misc\u001b[0m: edu it is you and in that of to the\n",
      "\u001b[0;37;41mtalk.religion.misc\u001b[0m: sandvik god you in is that and to of the\n"
     ]
    }
   ],
   "source": [
    "show_top10_words(nb_clf, vectorizer, newsgroups_train.target_names)"
   ]
  },
  {
   "cell_type": "markdown",
   "metadata": {},
   "source": [
    "**The main topics for the categories above do not look right. In reading through the documentation I think I will need to remove headers, footers and quotes from the dataset**"
   ]
  },
  {
   "cell_type": "code",
   "execution_count": 40,
   "metadata": {},
   "outputs": [
    {
     "data": {
      "text/plain": [
       "MultinomialNB(alpha=0.01, class_prior=None, fit_prior=True)"
      ]
     },
     "execution_count": 40,
     "metadata": {},
     "output_type": "execute_result"
    }
   ],
   "source": [
    "#remove headers, footers and quotes from datasets\n",
    "newsgroups_train = fetch_20newsgroups(subset='train',\n",
    "                                      remove=('headers', 'footers', 'quotes'))\n",
    "\n",
    "#create a new vectorizer that removes english stop words and remove \n",
    "#words that appear in more than 50% of websites.\n",
    "vectorizer = TfidfVectorizer(max_df=0.5, stop_words='english')\n",
    "vectors = vectorizer.fit_transform(newsgroups_train.data)\n",
    "\n",
    "nb_clf = MultinomialNB(alpha=.01)\n",
    "nb_clf.fit(vectors, newsgroups_train.target)"
   ]
  },
  {
   "cell_type": "code",
   "execution_count": 41,
   "metadata": {},
   "outputs": [],
   "source": [
    "#Generate predictions on test data\n",
    "vectors_test = vectorizer.transform(newsgroups_test.data)\n",
    "pred = nb_clf.predict(vectors_test)"
   ]
  },
  {
   "cell_type": "code",
   "execution_count": 42,
   "metadata": {},
   "outputs": [
    {
     "name": "stdout",
     "output_type": "stream",
     "text": [
      "Accuracy: 0.784121\n",
      "Precision: 0.788334\n",
      "Recall: 0.773601\n",
      "F1 score: 0.773819\n"
     ]
    }
   ],
   "source": [
    "print_accuracy_scores(nb_clf, vectors_test, newsgroups_test.target)"
   ]
  },
  {
   "cell_type": "code",
   "execution_count": 43,
   "metadata": {},
   "outputs": [
    {
     "name": "stdout",
     "output_type": "stream",
     "text": [
      "\u001b[0;37;41malt.atheism\u001b[0m: islam atheists say just religion atheism think don people god\n",
      "\u001b[0;37;41mcomp.graphics\u001b[0m: looking format 3d know program file files thanks image graphics\n",
      "\u001b[0;37;41mcomp.os.ms-windows.misc\u001b[0m: card problem thanks driver drivers use files dos file windows\n",
      "\u001b[0;37;41mcomp.sys.ibm.pc.hardware\u001b[0m: monitor disk thanks pc ide controller bus card scsi drive\n",
      "\u001b[0;37;41mcomp.sys.mac.hardware\u001b[0m: know monitor does quadra simms thanks problem drive apple mac\n",
      "\u001b[0;37;41mcomp.windows.x\u001b[0m: using windows x11r5 use application thanks widget server motif window\n",
      "\u001b[0;37;41mmisc.forsale\u001b[0m: asking email sell price condition new shipping offer 00 sale\n",
      "\u001b[0;37;41mrec.autos\u001b[0m: don ford new good dealer just engine like cars car\n",
      "\u001b[0;37;41mrec.motorcycles\u001b[0m: don just helmet riding like motorcycle ride bikes dod bike\n",
      "\u001b[0;37;41mrec.sport.baseball\u001b[0m: braves players pitching hit runs games game baseball team year\n",
      "\u001b[0;37;41mrec.sport.hockey\u001b[0m: league year nhl games season players play hockey team game\n",
      "\u001b[0;37;41msci.crypt\u001b[0m: people use escrow nsa keys government chip clipper encryption key\n",
      "\u001b[0;37;41msci.electronics\u001b[0m: don thanks voltage used know does like circuit power use\n",
      "\u001b[0;37;41msci.med\u001b[0m: skepticism cadre dsl banks chastity n3jxp pitt gordon geb msg\n",
      "\u001b[0;37;41msci.space\u001b[0m: just lunar earth shuttle like moon launch orbit nasa space\n",
      "\u001b[0;37;41msoc.religion.christian\u001b[0m: believe faith christian christ bible people christians church jesus god\n",
      "\u001b[0;37;41mtalk.politics.guns\u001b[0m: just law firearms government fbi don weapons people guns gun\n",
      "\u001b[0;37;41mtalk.politics.mideast\u001b[0m: said arabs arab turkish people armenians armenian jews israeli israel\n",
      "\u001b[0;37;41mtalk.politics.misc\u001b[0m: know state clinton president just think tax don government people\n",
      "\u001b[0;37;41mtalk.religion.misc\u001b[0m: think don koresh objective christians bible people christian jesus god\n"
     ]
    }
   ],
   "source": [
    "show_top10_words(nb_clf, vectorizer, newsgroups_train.target_names)"
   ]
  },
  {
   "cell_type": "markdown",
   "metadata": {},
   "source": [
    "**Results above look way better after removing stop words and all footers and headers**"
   ]
  },
  {
   "cell_type": "markdown",
   "metadata": {},
   "source": [
    "**I will now run a few more models to see if I can improve on the accuracy score**"
   ]
  },
  {
   "cell_type": "markdown",
   "metadata": {},
   "source": [
    "# Model Evaluation"
   ]
  },
  {
   "cell_type": "code",
   "execution_count": 44,
   "metadata": {},
   "outputs": [
    {
     "name": "stderr",
     "output_type": "stream",
     "text": [
      "/Users/saleemkhan/opt/anaconda3/envs/metis/lib/python3.7/site-packages/sklearn/ensemble/forest.py:245: FutureWarning: The default value of n_estimators will change from 10 in version 0.20 to 100 in 0.22.\n",
      "  \"10 in version 0.20 to 100 in 0.22.\", FutureWarning)\n"
     ]
    }
   ],
   "source": [
    "#Random Forest Classifier\n",
    "rf = RandomForestClassifier()\n",
    "rf.fit(vectors, newsgroups_train.target);\n",
    "pred = rf.predict(vectors_test)"
   ]
  },
  {
   "cell_type": "code",
   "execution_count": 45,
   "metadata": {},
   "outputs": [
    {
     "name": "stdout",
     "output_type": "stream",
     "text": [
      "Accuracy: 0.575146\n",
      "Precision: 0.594177\n",
      "Recall: 0.561490\n",
      "F1 score: 0.563994\n"
     ]
    }
   ],
   "source": [
    "print_accuracy_scores(rf, vectors_test, newsgroups_test.target)"
   ]
  },
  {
   "cell_type": "code",
   "execution_count": 46,
   "metadata": {},
   "outputs": [],
   "source": [
    "#Decision Tree Classifier\n",
    "dtclf = DecisionTreeClassifier()\n",
    "dtclf = dtclf.fit(vectors, newsgroups_train.target)"
   ]
  },
  {
   "cell_type": "code",
   "execution_count": 47,
   "metadata": {},
   "outputs": [
    {
     "name": "stdout",
     "output_type": "stream",
     "text": [
      "Accuracy: 0.520181\n",
      "Precision: 0.505519\n",
      "Recall: 0.508445\n",
      "F1 score: 0.502841\n"
     ]
    }
   ],
   "source": [
    "print_accuracy_scores(dtclf, vectors_test, newsgroups_test.target)"
   ]
  },
  {
   "cell_type": "code",
   "execution_count": 48,
   "metadata": {},
   "outputs": [
    {
     "data": {
      "text/plain": [
       "LinearSVC(C=1.0, class_weight=None, dual=False, fit_intercept=True,\n",
       "          intercept_scaling=1, loss='squared_hinge', max_iter=1000,\n",
       "          multi_class='ovr', penalty='l2', random_state=None, tol=0.001,\n",
       "          verbose=0)"
      ]
     },
     "execution_count": 48,
     "metadata": {},
     "output_type": "execute_result"
    }
   ],
   "source": [
    "#LinearSVC\n",
    "svc = LinearSVC(penalty='l2', dual=False, tol=1e-3)\n",
    "svc.fit(vectors, newsgroups_train.target)"
   ]
  },
  {
   "cell_type": "code",
   "execution_count": 49,
   "metadata": {},
   "outputs": [
    {
     "name": "stdout",
     "output_type": "stream",
     "text": [
      "Accuracy: 0.803638\n",
      "Precision: 0.805141\n",
      "Recall: 0.793232\n",
      "F1 score: 0.794410\n"
     ]
    }
   ],
   "source": [
    "#Best results so far\n",
    "print_accuracy_scores(svc, vectors_test, newsgroups_test.target)"
   ]
  },
  {
   "cell_type": "code",
   "execution_count": 50,
   "metadata": {},
   "outputs": [
    {
     "name": "stdout",
     "output_type": "stream",
     "text": [
      "\u001b[0;37;41malt.atheism\u001b[0m: cruel atheists religion islamic islam nanci deletion bobby motto atheism\n",
      "\u001b[0;37;41mcomp.graphics\u001b[0m: cview 3do animation pov tiff 68070 images image 3d graphics\n",
      "\u001b[0;37;41mcomp.os.ms-windows.misc\u001b[0m: winqvt w4wg smartdrv mfc ini ax risc win3 cica windows\n",
      "\u001b[0;37;41mcomp.sys.ibm.pc.hardware\u001b[0m: irq cmos fastmicro t560i orchid bios 486 gateway ide vlb\n",
      "\u001b[0;37;41mcomp.sys.mac.hardware\u001b[0m: c650 duo centris lc adb quadra se powerbook apple mac\n",
      "\u001b[0;37;41mcomp.windows.x\u001b[0m: binaries xlib widgets window mit x11r5 xterm server widget motif\n",
      "\u001b[0;37;41mmisc.forsale\u001b[0m: pay uhc includes interested asking condition sell shipping offer sale\n",
      "\u001b[0;37;41mrec.autos\u001b[0m: autos sho gt toyota dealer vw oil ford cars car\n",
      "\u001b[0;37;41mrec.motorcycles\u001b[0m: bmw motorcycles harley riding motorcycle helmet bikes ride dod bike\n",
      "\u001b[0;37;41mrec.sport.baseball\u001b[0m: yankees royals ball sox alomar braves cubs phillies stadium baseball\n",
      "\u001b[0;37;41mrec.sport.hockey\u001b[0m: ice devils playoffs leafs mask coach playoff puck nhl hockey\n",
      "\u001b[0;37;41msci.crypt\u001b[0m: crypto des vesselin pgp key privacy security nsa encryption clipper\n",
      "\u001b[0;37;41msci.electronics\u001b[0m: dsp 2600 projects circuits dayton dial cci 8051 electronics circuit\n",
      "\u001b[0;37;41msci.med\u001b[0m: patients photography syndrome diet needles medical disease treatment doctor msg\n",
      "\u001b[0;37;41msci.space\u001b[0m: mining lunar shuttle solar moon nasa spacecraft launch orbit space\n",
      "\u001b[0;37;41msoc.religion.christian\u001b[0m: christians prayer christ abstinence marriage scripture resurrection easter christianity church\n",
      "\u001b[0;37;41mtalk.politics.guns\u001b[0m: feustel weapon bd jmd nra firearm weapons firearms guns gun\n",
      "\u001b[0;37;41mtalk.politics.mideast\u001b[0m: retarded jews armenian arabs loser armenians turkish arab israeli israel\n",
      "\u001b[0;37;41mtalk.politics.misc\u001b[0m: deane presidents homosexuals blacks libertarian drugs trial jobs tax libertarians\n",
      "\u001b[0;37;41mtalk.religion.misc\u001b[0m: commandment ekr lds amorc christian paradise rosicrucian koresh hudson kent\n"
     ]
    }
   ],
   "source": [
    "show_top10_words(svc, vectorizer, newsgroups_train.target_names)"
   ]
  },
  {
   "cell_type": "code",
   "execution_count": 24,
   "metadata": {},
   "outputs": [
    {
     "name": "stderr",
     "output_type": "stream",
     "text": [
      "/Users/saleemkhan/opt/anaconda3/envs/metis/lib/python3.7/site-packages/sklearn/linear_model/logistic.py:432: FutureWarning: Default solver will be changed to 'lbfgs' in 0.22. Specify a solver to silence this warning.\n",
      "  FutureWarning)\n",
      "/Users/saleemkhan/opt/anaconda3/envs/metis/lib/python3.7/site-packages/sklearn/linear_model/logistic.py:469: FutureWarning: Default multi_class will be changed to 'auto' in 0.22. Specify the multi_class option to silence this warning.\n",
      "  \"this warning.\", FutureWarning)\n"
     ]
    },
    {
     "data": {
      "text/plain": [
       "LogisticRegression(C=1.0, class_weight=None, dual=False, fit_intercept=True,\n",
       "                   intercept_scaling=1, l1_ratio=None, max_iter=100,\n",
       "                   multi_class='warn', n_jobs=None, penalty='l2',\n",
       "                   random_state=None, solver='warn', tol=0.0001, verbose=0,\n",
       "                   warm_start=False)"
      ]
     },
     "execution_count": 24,
     "metadata": {},
     "output_type": "execute_result"
    }
   ],
   "source": [
    "logreg = LogisticRegression()\n",
    "logreg.fit(vectors, newsgroups_train.target)"
   ]
  },
  {
   "cell_type": "code",
   "execution_count": 25,
   "metadata": {},
   "outputs": [
    {
     "name": "stdout",
     "output_type": "stream",
     "text": [
      "Accuracy: 0.792884\n",
      "Precision: 0.799006\n",
      "Recall: 0.778382\n",
      "F1 score: 0.777659\n"
     ]
    }
   ],
   "source": [
    "print_accuracy_scores(logreg, vectors_test, newsgroups_test.target)"
   ]
  },
  {
   "cell_type": "code",
   "execution_count": 26,
   "metadata": {},
   "outputs": [
    {
     "name": "stdout",
     "output_type": "stream",
     "text": [
      "alt.atheism: punishment atheist motto deletion bobby islamic atheists islam religion atheism\n",
      "comp.graphics: polygon pov cview tiff files format images 3d image graphics\n",
      "comp.os.ms-windows.misc: win3 risc fonts files drivers driver cica ax file windows\n",
      "comp.sys.ibm.pc.hardware: bios 486 monitor drive card ide controller bus pc scsi\n",
      "comp.sys.mac.hardware: nubus powerbook duo simms lc se centris quadra apple mac\n",
      "comp.windows.x: widgets sun application mit x11r5 xterm widget server motif window\n",
      "misc.forsale: new interested asking email 00 condition sell shipping offer sale\n",
      "rec.autos: gt vw auto toyota oil dealer ford engine cars car\n",
      "rec.motorcycles: motorcycles dog bmw riding helmet motorcycle ride bikes dod bike\n",
      "rec.sport.baseball: phillies ball cubs pitching stadium hit braves runs year baseball\n",
      "rec.sport.hockey: puck playoffs leafs players play season nhl team game hockey\n",
      "sci.crypt: des crypto security chip keys government nsa encryption clipper key\n",
      "sci.electronics: tv current amp output radio ground power voltage electronics circuit\n",
      "sci.med: diet cancer food treatment patients pain medical disease doctor msg\n",
      "sci.space: solar lunar earth shuttle spacecraft moon launch orbit nasa space\n",
      "soc.religion.christian: scripture marriage faith jesus christian christianity christ christians church god\n",
      "talk.politics.guns: jmd firearm nra batf weapon firearms fbi weapons guns gun\n",
      "talk.politics.mideast: jewish arabs turkey armenian arab turkish armenians jews israeli israel\n",
      "talk.politics.misc: jobs men trial gay people president drugs government clinton tax\n",
      "talk.religion.misc: values rosicrucian morality christians god jesus objective kent christian koresh\n"
     ]
    }
   ],
   "source": [
    "show_top10_words(logreg, vectorizer, newsgroups_train.target_names)"
   ]
  },
  {
   "cell_type": "markdown",
   "metadata": {},
   "source": [
    "# Conclusion\n",
    "After carefully evaluating a few classification models, LinearSVC seems to preform the best. I will now use this to create a class that will be used to run against the common crawl dataset"
   ]
  }
 ],
 "metadata": {
  "kernelspec": {
   "display_name": "Python [conda env:metis] *",
   "language": "python",
   "name": "conda-env-metis-py"
  },
  "language_info": {
   "codemirror_mode": {
    "name": "ipython",
    "version": 3
   },
   "file_extension": ".py",
   "mimetype": "text/x-python",
   "name": "python",
   "nbconvert_exporter": "python",
   "pygments_lexer": "ipython3",
   "version": "3.7.4"
  }
 },
 "nbformat": 4,
 "nbformat_minor": 2
}
