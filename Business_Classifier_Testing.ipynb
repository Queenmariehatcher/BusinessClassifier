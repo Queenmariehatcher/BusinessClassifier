{
 "cells": [
  {
   "cell_type": "code",
   "execution_count": 3,
   "metadata": {},
   "outputs": [],
   "source": [
    "import pickle"
   ]
  },
  {
   "cell_type": "code",
   "execution_count": 4,
   "metadata": {},
   "outputs": [],
   "source": [
    "class Test_Classifier:\n",
    "    \n",
    "    def __init__(self):\n",
    "        with open('businessclassifier.pkl', 'rb') as f:\n",
    "            self.clf, self.vectorizer, self.target_names = pickle.load(f)\n",
    "            \n",
    "    def predict(self, document):\n",
    "        x_test = self.vectorizer.transform([document])\n",
    "        pred = self.clf.predict(x_test)\n",
    "        return self.target_names[pred[0]]"
   ]
  },
  {
   "cell_type": "code",
   "execution_count": 5,
   "metadata": {},
   "outputs": [],
   "source": [
    "classifier = Test_Classifier()"
   ]
  },
  {
   "cell_type": "code",
   "execution_count": 11,
   "metadata": {},
   "outputs": [
    {
     "data": {
      "text/plain": [
       "['alt.atheism',\n",
       " 'comp.graphics',\n",
       " 'comp.os.ms-windows.misc',\n",
       " 'comp.sys.ibm.pc.hardware',\n",
       " 'comp.sys.mac.hardware',\n",
       " 'comp.windows.x',\n",
       " 'misc.forsale',\n",
       " 'rec.autos',\n",
       " 'rec.motorcycles',\n",
       " 'rec.sport.baseball',\n",
       " 'rec.sport.hockey',\n",
       " 'sci.crypt',\n",
       " 'sci.electronics',\n",
       " 'sci.med',\n",
       " 'sci.space',\n",
       " 'soc.religion.christian',\n",
       " 'talk.politics.guns',\n",
       " 'talk.politics.mideast',\n",
       " 'talk.politics.misc',\n",
       " 'talk.religion.misc']"
      ]
     },
     "execution_count": 11,
     "metadata": {},
     "output_type": "execute_result"
    }
   ],
   "source": [
    "#Display the target names\n",
    "classifier.target_names"
   ]
  },
  {
   "cell_type": "code",
   "execution_count": 22,
   "metadata": {},
   "outputs": [
    {
     "name": "stdout",
     "output_type": "stream",
     "text": [
      "WEBSITE:  http://3-wheel.wholesale.wneducation.com/aboutus\n",
      "TEXT:  Zhejiang Biswift Vehicle Co., Ltd. is the factory which belongs to Zhejiang Biswft enterprise co., ltd, located in Guangze Road, Jinhua City, China, with beautiful environment and convenient transportation. Since the company was established, we have been adhering to specialized quality and perfect m ...\n",
      "PREDICTION: misc.forsale\n"
     ]
    }
   ],
   "source": [
    "#Test 1 - Correct Classification\n",
    "website = \"http://3-wheel.wholesale.wneducation.com/aboutus\"\n",
    "text = \"Zhejiang Biswift Vehicle Co., Ltd. is the factory which belongs to Zhejiang Biswft enterprise co., ltd, located in Guangze Road, Jinhua City, China, with beautiful environment and convenient transportation. Since the company was established, we have been adhering to specialized quality and perfect management all the time, in line with the ideology of our company as follow:  high- quality, low price, that the customer's satisfaction is the terminal goal our company pursues forever . We have a group of professional staff full of energy and creativity. Except the professional research and development technology, we especially provide our customers the perfect after-sales service. We can design and manufacture independently the products under various specifications and styles which can fulfill the customers' special requirements in appearances, frameworks, structures, functions and other aspects. We now have electric four-wheel mobility scooters, electric three-wheel mobility scooters, electric wheelchairs, golf carts, golf trolleys and electric vehicle parts and accessories, such as charger, electric capacity display, electric motor, electric vehicle seat. Company has built up a integrated assembly lines, with the producing capacity of 100, 000 sets completed vehicle and 400, 000 sets of fittings per year. We have successfully achieved the ISO9001: 2000 quality management system certification in late January, 2005 and verification of EMC compliance by SGS February, 2005 and still passed the EN ISO9001: 2000 and ENISO13485: 2003 in July, 2006. Our company is a comprehensive enterprise integrated by manufacturing, research, development and trading. The products of our company are exported to some countries and districts in America, Europe, Australia and some other Asia countries.\"\n",
    "pred = classifier.predict(text)\n",
    "\n",
    "print(\"WEBSITE: \", website)\n",
    "print(\"TEXT: \", text[0:300], \"...\")\n",
    "print(\"PREDICTION:\", pred)"
   ]
  },
  {
   "cell_type": "code",
   "execution_count": 25,
   "metadata": {},
   "outputs": [
    {
     "name": "stdout",
     "output_type": "stream",
     "text": [
      "WEBSITE:  http://abirdandabean.com/2018/09/the-childrens-theatre-of-cincinnati-presents-superman-giveaway.html\n",
      "TEXT:  Tickets start at $10. 1-800-745-3000 and www.ticketmaster.com. School performances of SUPERMAN™ will be held October 9-12 & 15, 2018 during the daytime hours. ** The homeschool performance date is Monday, October 15th at 1:00 pm. For details about how to purchase tickets to TCT’s school performances ...\n",
      "PREDICTION: misc.forsale\n"
     ]
    }
   ],
   "source": [
    "#Test 2 - Correct Classification\n",
    "website = \"http://abirdandabean.com/2018/09/the-childrens-theatre-of-cincinnati-presents-superman-giveaway.html\"\n",
    "text = \"Tickets start at $10. 1-800-745-3000 and www.ticketmaster.com. School performances of SUPERMAN™ will be held October 9-12 & 15, 2018 during the daytime hours. ** The homeschool performance date is Monday, October 15th at 1:00 pm. For details about how to purchase tickets to TCT’s school performances, visit www.thechildrenstheatre.com. For the past 95 years, the Children’s Theatre of Cincinnati has been educating, entertaining and engaging audiences of all ages with their professional theatrical productions. They are a theater for children. If you haven’t been lately…..get your self there this season!\"\n",
    "pred = classifier.predict(text)\n",
    "\n",
    "print(\"WEBSITE: \", website)\n",
    "print(\"TEXT: \", text[0:300], \"...\")\n",
    "print(\"PREDICTION:\", pred)"
   ]
  },
  {
   "cell_type": "code",
   "execution_count": 23,
   "metadata": {},
   "outputs": [
    {
     "name": "stdout",
     "output_type": "stream",
     "text": [
      "WEBSITE:  http://123mobiles.info/sony/Xperia-ray.htm\n",
      "TEXT:  Sony Ericsson Xperia Ray Mobile Phone Price Information Review Cell Phone Sony Ericsson Xperia Ray Reviews Latest Sony Ericsson Xperia Ray hand sets P ...\n",
      "PREDICTION: misc.forsale\n"
     ]
    }
   ],
   "source": [
    "#Test 2 - Incorrect Classification\n",
    "website = \"http://123mobiles.info/sony/Xperia-ray.htm\"\n",
    "text = \"Sony Ericsson Xperia Ray Mobile Phone Price Information Review Cell Phone Sony Ericsson Xperia Ray Reviews Latest Sony Ericsson Xperia Ray hand sets Prices and information Menu Home Nokia HTC Mobiles Sony LG Mobiles Trend Mobiles Club Mobiles Currency Converter Sony Ericsson Xperia Ray Mobile Information Sony Ericsson Xperia Ray Sony Ericsson Xperia Ray Mobile Phone Information, Our aim is to provide most updated information about Sony Ericsson Xperia Ray Sets to our users, Provide Cell Phones reviews .Sony Ericsson Xperia Ray Cell phone information such as full specifications, in-depth reviews and the latest news. It features advanced phone filter, specs and visual size comparisons Picture view of all new Sony Ericsson Xperia Ray phones. Keep visiting our website for most updated content. Latest and updated Sony Ericsson Xperia Ray mobiles price in Pakistan. Sony Ericsson Xperia Ray Phone Specifications What's New Shoot crystal-clear stills in 8.1 megapixels of Sony Ericsson Xperia Ray, Sun going down? Don’t worry. With the Exmor R for mobile image sensor your shots on Sony Ericsson Xperia Ray come out bright even when it’s getting dark Dimensions 111 x 53 x 9.4 mm Operating System Android OS v2.3 (Gingerbread)\"\n",
    "pred = classifier.predict(text)\n",
    "\n",
    "print(\"WEBSITE: \", website)\n",
    "print(\"TEXT: \", text[0:150], \"...\")\n",
    "print(\"PREDICTION:\", pred)"
   ]
  },
  {
   "cell_type": "code",
   "execution_count": null,
   "metadata": {},
   "outputs": [],
   "source": []
  }
 ],
 "metadata": {
  "kernelspec": {
   "display_name": "Python [conda env:metis] *",
   "language": "python",
   "name": "conda-env-metis-py"
  },
  "language_info": {
   "codemirror_mode": {
    "name": "ipython",
    "version": 3
   },
   "file_extension": ".py",
   "mimetype": "text/x-python",
   "name": "python",
   "nbconvert_exporter": "python",
   "pygments_lexer": "ipython3",
   "version": "3.7.4"
  }
 },
 "nbformat": 4,
 "nbformat_minor": 2
}
