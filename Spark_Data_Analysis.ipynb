{
 "cells": [
  {
   "cell_type": "code",
   "execution_count": 1,
   "metadata": {},
   "outputs": [],
   "source": [
    "import pandas as pd\n",
    "from pyspark import SparkContext\n",
    "import plotly.graph_objects as go\n",
    "from pyspark.sql import SQLContext"
   ]
  },
  {
   "cell_type": "markdown",
   "metadata": {},
   "source": [
    "# Spark Data Analysis\n",
    "Spark outputs is aggregated data into parquet files. I will use this file to analyze the business classification findings."
   ]
  },
  {
   "cell_type": "code",
   "execution_count": 2,
   "metadata": {},
   "outputs": [],
   "source": [
    "sc = SparkContext(appName='JSON Schema')\n",
    "sqlContext = SQLContext(sc)"
   ]
  },
  {
   "cell_type": "code",
   "execution_count": 3,
   "metadata": {},
   "outputs": [],
   "source": [
    "df = sqlContext.read.parquet(\"./cc-pyspark/spark-warehouse/business_classification/spark-warehouse\")"
   ]
  },
  {
   "cell_type": "code",
   "execution_count": 4,
   "metadata": {},
   "outputs": [
    {
     "name": "stdout",
     "output_type": "stream",
     "text": [
      "+--------------------+-----+\n",
      "|               topic|count|\n",
      "+--------------------+-----+\n",
      "|  talk.politics.guns|  978|\n",
      "|comp.os.ms-window...| 1483|\n",
      "|           tiny.page| 8419|\n",
      "|         alt.atheism|  534|\n",
      "|  talk.politics.misc| 4047|\n",
      "|  rec.sport.baseball| 1752|\n",
      "|     sci.electronics| 3171|\n",
      "|talk.politics.mid...| 1581|\n",
      "|        misc.forsale|14206|\n",
      "|               adult| 1111|\n",
      "|soc.religion.chri...| 3786|\n",
      "|error.unknown.rec...|    3|\n",
      "|      comp.windows.x| 2570|\n",
      "|   error.lang.detect|   18|\n",
      "|           sci.space| 2888|\n",
      "|           sci.crypt| 1918|\n",
      "|    rec.sport.hockey| 1866|\n",
      "|comp.sys.mac.hard...|  776|\n",
      "|comp.sys.ibm.pc.h...|  932|\n",
      "|             sci.med| 6019|\n",
      "+--------------------+-----+\n",
      "only showing top 20 rows\n",
      "\n"
     ]
    }
   ],
   "source": [
    "df.show()"
   ]
  },
  {
   "cell_type": "code",
   "execution_count": 5,
   "metadata": {},
   "outputs": [
    {
     "ename": "NameError",
     "evalue": "name 'web_page_count' is not defined",
     "output_type": "error",
     "traceback": [
      "\u001b[0;31m---------------------------------------------------------------------------\u001b[0m",
      "\u001b[0;31mNameError\u001b[0m                                 Traceback (most recent call last)",
      "\u001b[0;32m<ipython-input-5-c9d9232bb50d>\u001b[0m in \u001b[0;36m<module>\u001b[0;34m\u001b[0m\n\u001b[1;32m      1\u001b[0m \u001b[0mcc_web_page_count\u001b[0m\u001b[0;34m=\u001b[0m\u001b[0;36m2600000000\u001b[0m\u001b[0;34m\u001b[0m\u001b[0;34m\u001b[0m\u001b[0m\n\u001b[0;32m----> 2\u001b[0;31m \u001b[0mcrawled_percent\u001b[0m\u001b[0;34m=\u001b[0m\u001b[0mweb_page_count\u001b[0m\u001b[0;34m/\u001b[0m\u001b[0mcc_web_page_count\u001b[0m\u001b[0;34m\u001b[0m\u001b[0;34m\u001b[0m\u001b[0m\n\u001b[0m\u001b[1;32m      3\u001b[0m \u001b[0mcrawled_percent\u001b[0m\u001b[0;34m\u001b[0m\u001b[0;34m\u001b[0m\u001b[0m\n",
      "\u001b[0;31mNameError\u001b[0m: name 'web_page_count' is not defined"
     ]
    }
   ],
   "source": [
    "cc_web_page_count=2600000000\n",
    "crawled_percent=web_page_count/cc_web_page_count\n",
    "crawled_percent"
   ]
  },
  {
   "cell_type": "code",
   "execution_count": null,
   "metadata": {},
   "outputs": [],
   "source": [
    "137952-72938"
   ]
  },
  {
   "cell_type": "code",
   "execution_count": null,
   "metadata": {},
   "outputs": [],
   "source": [
    "labels = ['non.english.page', 'english.page']\n",
    "values = [72938, 65014]\n",
    "\n",
    "# pull is given as a fraction of the pie radius\n",
    "fig = go.Figure(data=[go.Pie(labels=labels, values=values, pull=[0,0,0,0,0,0,0,0,0,0,0,0,0,0.2])])\n",
    "fig.show()"
   ]
  },
  {
   "cell_type": "code",
   "execution_count": null,
   "metadata": {},
   "outputs": [],
   "source": [
    "#Need to remove a few categories: \n",
    "labels = ['talk.religion.misc', 'talk.politics.misc', 'talk.politics.mideast', 'talk.politics.guns', 'soc.religion.christian', 'sci.space', 'sci.med', 'sci.electronics', 'sci.crypt', 'rec.sport.hockey', 'rec.sport.baseball', 'rec.motorcycles', 'rec.autos', 'misc.forsale', 'comp.windows.x', 'comp.sys.mac.hardware', 'comp.sys.ibm.pc.hardware', 'comp.os.ms-windows.misc', 'comp.graphics', 'alt.atheism', 'adult']\n",
    "values = [300, 4047, 1581, 978, 3786, 2888, 6019, 3171, 1918, 1866, 1752, 1658, 2253, 14206, 2570, 776, 932, 1483, 2745, 534, 1111]\n",
    "\n",
    "# pull is given as a fraction of the pie radius\n",
    "fig = go.Figure(data=[go.Pie(labels=labels, values=values, pull=[0,0,0,0,0,0,0,0,0,0,0,0,0,0.2])])\n",
    "fig.show()"
   ]
  },
  {
   "cell_type": "code",
   "execution_count": null,
   "metadata": {},
   "outputs": [],
   "source": [
    "#Load in the Parquet file\n",
    "parq_df = sqlContext.read.parquet(\"./cc-pyspark/spark-warehouse/business_classifier3\")"
   ]
  },
  {
   "cell_type": "code",
   "execution_count": null,
   "metadata": {},
   "outputs": [],
   "source": [
    "web_page_count = parq_df.groupBy().sum().show()"
   ]
  },
  {
   "cell_type": "code",
   "execution_count": null,
   "metadata": {},
   "outputs": [],
   "source": [
    "for row in parq_df.sort(parq_df.topic.desc()).take(25): print(row)"
   ]
  },
  {
   "cell_type": "code",
   "execution_count": null,
   "metadata": {},
   "outputs": [],
   "source": [
    "#convert to a Dataframe because it's easier to work with\n",
    "new_df = pd.DataFrame(columns=['topic', 'count'])\n",
    "\n",
    "topic_list=[]\n",
    "count_list=[]\n",
    "\n",
    "for row in parq_df.sort(parq_df.topic.desc()).take(25):\n",
    "    topic_list.append(row[0])\n",
    "    count_list.append(row[1])\n",
    "    \n",
    "new_df['topic'] = topic_list\n",
    "new_df['count'] = count_list"
   ]
  },
  {
   "cell_type": "code",
   "execution_count": null,
   "metadata": {},
   "outputs": [],
   "source": [
    "new_df.head(50)"
   ]
  },
  {
   "cell_type": "code",
   "execution_count": null,
   "metadata": {},
   "outputs": [],
   "source": [
    "#total number of records\n",
    "new_df[\"count\"].sum()"
   ]
  },
  {
   "cell_type": "code",
   "execution_count": null,
   "metadata": {},
   "outputs": [],
   "source": [
    "#English versus non-english web pages\n",
    "labels = ['non.english.page', 'english.page']\n",
    "non_eng = new_df[(new_df['topic'] == \"non.english.page\")][\"count\"].values[0]\n",
    "eng = new_df[(new_df['topic'] != \"non.english.page\")][\"count\"].sum()\n",
    "values = [non_eng, eng]\n",
    "\n",
    "# pull is given as a fraction of the pie radius\n",
    "fig = go.Figure(data=[go.Pie(labels=labels, values=values, pull=[0,0])])\n",
    "fig.update_traces(textposition='inside', textinfo='percent+label+value')\n",
    "fig.show()"
   ]
  },
  {
   "cell_type": "code",
   "execution_count": null,
   "metadata": {},
   "outputs": [],
   "source": [
    "#Remove topic counts that will not be included\n",
    "mask = ((new_df['topic'] != \"tiny.page\") & \n",
    "        (new_df['topic'] != \"non.english.page\") &\n",
    "        (new_df['topic'] != \"error.unknown.record.type\") &\n",
    "        (new_df['topic'] != \"error.lang.detect\"))\n",
    "final_df = new_df[mask]\n",
    "final_df"
   ]
  },
  {
   "cell_type": "code",
   "execution_count": null,
   "metadata": {},
   "outputs": [],
   "source": [
    "#Need to remove a few categories: \n",
    "labels = final_df[\"topic\"]\n",
    "values = final_df[\"count\"]\n",
    "\n",
    "# pull is given as a fraction of the pie radius\n",
    "fig = go.Figure(data=[go.Pie(labels=labels, values=values, pull=[0,0,0,0,0,0,0,0,0,0,0,0,0,0.2])])\n",
    "fig.update_traces(textposition='inside', textinfo='percent+label+value')\n",
    "fig.show()"
   ]
  },
  {
   "cell_type": "code",
   "execution_count": null,
   "metadata": {},
   "outputs": [],
   "source": []
  }
 ],
 "metadata": {
  "kernelspec": {
   "display_name": "Python [conda env:metis] *",
   "language": "python",
   "name": "conda-env-metis-py"
  },
  "language_info": {
   "codemirror_mode": {
    "name": "ipython",
    "version": 3
   },
   "file_extension": ".py",
   "mimetype": "text/x-python",
   "name": "python",
   "nbconvert_exporter": "python",
   "pygments_lexer": "ipython3",
   "version": "3.7.4"
  }
 },
 "nbformat": 4,
 "nbformat_minor": 2
}
